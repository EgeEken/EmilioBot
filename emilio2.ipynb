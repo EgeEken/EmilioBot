{
 "cells": [
  {
   "cell_type": "markdown",
   "metadata": {},
   "source": [
    "---"
   ]
  },
  {
   "cell_type": "markdown",
   "metadata": {},
   "source": [
    "# EmilioBot 2.0\n",
    "\n",
    "## LLM model based on Emilio's whatsapp messages, built and trained from scratch by Ege"
   ]
  },
  {
   "cell_type": "markdown",
   "metadata": {},
   "source": [
    "---"
   ]
  },
  {
   "cell_type": "code",
   "execution_count": 82,
   "metadata": {},
   "outputs": [],
   "source": [
    "# Imports\n",
    "import tiktoken as tkn\n",
    "import torch\n",
    "import torch.nn as nn\n",
    "from torch.nn import functional as F\n",
    "import numpy as np\n",
    "import matplotlib.pyplot as plt\n",
    "import random"
   ]
  },
  {
   "cell_type": "code",
   "execution_count": 2,
   "metadata": {},
   "outputs": [
    {
     "data": {
      "text/plain": [
       "True"
      ]
     },
     "execution_count": 2,
     "metadata": {},
     "output_type": "execute_result"
    }
   ],
   "source": [
    "torch.cuda.is_available()"
   ]
  },
  {
   "cell_type": "code",
   "execution_count": 3,
   "metadata": {},
   "outputs": [],
   "source": [
    "DATA_TXT = \"EMILIO_CLEANED.txt\""
   ]
  },
  {
   "cell_type": "code",
   "execution_count": 4,
   "metadata": {},
   "outputs": [],
   "source": [
    "with open(DATA_TXT, \"r\", encoding=\"utf-8\") as f:\n",
    "\ttext = f.read()"
   ]
  },
  {
   "cell_type": "code",
   "execution_count": 5,
   "metadata": {},
   "outputs": [
    {
     "name": "stdout",
     "output_type": "stream",
     "text": [
      "Length of the dataset in characters: 351478\n"
     ]
    }
   ],
   "source": [
    "print(f\"Length of the dataset in characters: {len(text)}\")"
   ]
  },
  {
   "cell_type": "code",
   "execution_count": 6,
   "metadata": {},
   "outputs": [
    {
     "name": "stdout",
     "output_type": "stream",
     "text": [
      "let\n",
      "Let’s hang out\n",
      "Yeah I’m in Ikea\n",
      "Had to buy some shit for home\n",
      "N\n",
      "K*\n",
      "I’m still in IKEA lol\n",
      "Yeah\n",
      "Yeah\n",
      "I’m outside\n",
      "Right at the entrance\n",
      "I’d be down t\n"
     ]
    }
   ],
   "source": [
    "print(text[100:250])"
   ]
  },
  {
   "cell_type": "code",
   "execution_count": 7,
   "metadata": {},
   "outputs": [
    {
     "name": "stdout",
     "output_type": "stream",
     "text": [
      "Number of unique characters: 233\n",
      "\n",
      " !\"#$%&'()*+,-./0123456789:;=>?@ABCDEFGHIJKLMNOPQRSTUVWXYZ^abcdefghijklmnopqrstuvwxyz{} «´»ÀÁÖàáãçèéêëíïñóôöüЧаделоть‍‎‘’“”…‼⁉€☕☠♂❎一三不中二作十号喜四国大天学工律我时月欢法的紫老进难鹃️🌳🍀🍷🏫🐊🐐🐱👊👍👎👑👨💀💃💅💤💪💯📠📸🔥🗣😂😈😍😎😐😔😕😞😤😨😩😫😭😱😲😳😴😼🙁🚩🚬🤌🤑🤓🤔🤙🤝🤞🤠🤡🤢🤣🤤🤨🤩🤪🤮🤯🤷🥖🥴🥵🥶🥸🥹🥺🦅🧉🧐🧢🫡\n"
     ]
    }
   ],
   "source": [
    "characters = sorted(list(set(text)))\n",
    "vocab_size = len(characters)\n",
    "print(f\"Number of unique characters: {vocab_size}\")\n",
    "print(\"\".join(characters))"
   ]
  },
  {
   "cell_type": "code",
   "execution_count": 8,
   "metadata": {},
   "outputs": [
    {
     "name": "stdout",
     "output_type": "stream",
     "text": [
      "[57, 74, 1, 72, 60, 73, 13, 1, 82, 67, 60, 79, 8, 78, 1, 80, 75, 31]\n",
      "Yo man, what's up?\n"
     ]
    }
   ],
   "source": [
    "stoi = {c: i for i, c in enumerate(characters)}\n",
    "itos = {i: c for i, c in enumerate(characters)}\n",
    "\n",
    "encode = lambda x: [stoi[c] for c in x]\n",
    "decode = lambda x: \"\".join([itos[i] for i in x])\n",
    "\n",
    "print(encode(\"Yo man, what's up?\"))\n",
    "print(decode(encode(\"Yo man, what's up?\")))"
   ]
  },
  {
   "cell_type": "code",
   "execution_count": 9,
   "metadata": {},
   "outputs": [],
   "source": [
    "data = torch.tensor(encode(text), dtype=torch.long)"
   ]
  },
  {
   "cell_type": "code",
   "execution_count": 10,
   "metadata": {},
   "outputs": [
    {
     "name": "stdout",
     "output_type": "stream",
     "text": [
      "torch.Size([351478]) torch.int64\n"
     ]
    }
   ],
   "source": [
    "print(data.shape, data.dtype)"
   ]
  },
  {
   "cell_type": "code",
   "execution_count": 11,
   "metadata": {},
   "outputs": [
    {
     "name": "stdout",
     "output_type": "stream",
     "text": [
      "tensor([18,  1, 68, 72, 75, 60, 78, 78, 64,  1, 37, 80, 66, 99, 73, 64,  1, 36,\n",
      "        64, 71, 60, 62, 77, 74, 68, 83,  1, 26, 21, 17, 17, 17,  0, 36, 60, 72,\n",
      "        73,  1, 79, 67, 64, 77, 64,  1, 60, 77, 64,  1, 78, 74, 72, 64,  1, 42,\n",
      "        64, 82, 78,  1, 68, 73,  1, 72, 84,  1, 33, 75, 75, 60, 77, 79, 64, 72,\n",
      "        64, 73, 79,  1, 62, 74, 72, 75, 71, 64, 83,  0, 57, 74,  0, 35, 74, 72,\n",
      "        64,  1, 79, 74,  1, 62, 67, 60, 79, 64])\n"
     ]
    }
   ],
   "source": [
    "print(data[:100])"
   ]
  },
  {
   "cell_type": "code",
   "execution_count": 12,
   "metadata": {},
   "outputs": [],
   "source": [
    "train_percentage = 90/100\n",
    "n = int(train_percentage*len(data))\n",
    "\n",
    "train_data = data[:n]\n",
    "test_data = data[n:]"
   ]
  },
  {
   "cell_type": "code",
   "execution_count": 13,
   "metadata": {},
   "outputs": [
    {
     "data": {
      "text/plain": [
       "tensor([18,  1, 68, 72, 75, 60, 78, 78])"
      ]
     },
     "execution_count": 13,
     "metadata": {},
     "output_type": "execute_result"
    }
   ],
   "source": [
    "train_data[:8]"
   ]
  },
  {
   "cell_type": "code",
   "execution_count": 14,
   "metadata": {},
   "outputs": [],
   "source": [
    "batch_size = 4\n",
    "block_size = 8\n",
    "\n",
    "def get_batch(split, batch_size=4, block_size=8,  train=train_data, test=test_data):\n",
    "    data = train if split == \"train\" else test\n",
    "    ix = torch.randint(len(data) - block_size, (batch_size,))\n",
    "    x = torch.stack([data[i:i+block_size] for i in ix])\n",
    "    y = torch.stack([data[i+1:i+block_size+1] for i in ix])\n",
    "    return x, y\n"
   ]
  },
  {
   "cell_type": "code",
   "execution_count": 15,
   "metadata": {},
   "outputs": [],
   "source": [
    "torch_seed = 28042003\n",
    "torch.manual_seed(torch_seed)\n",
    "\n",
    "xb, yb = get_batch(\"train\", 4, 8, train_data, test_data)"
   ]
  },
  {
   "cell_type": "code",
   "execution_count": 16,
   "metadata": {},
   "outputs": [
    {
     "name": "stdout",
     "output_type": "stream",
     "text": [
      "----------------------------------------------\n",
      "\n",
      "Inputs:\n",
      "\n",
      "\ttorch.Size([4, 8])\n",
      "\n",
      "tensor([[64,  0, 41, 78,  1, 67, 64,  1],\n",
      "        [73, 62, 67,  0, 89, 88, 33, 79],\n",
      "        [78, 67, 64,  1, 62, 74, 74, 70],\n",
      "        [ 1, 84, 64, 60, 77, 78,  0, 45]])\n",
      "\n",
      "----------------------------------------------\n",
      "\n",
      "Targets:\n",
      "\n",
      "\ttorch.Size([4, 8])\n",
      "\n",
      "tensor([[ 0, 41, 78,  1, 67, 64,  1, 84],\n",
      "        [62, 67,  0, 89, 88, 33, 79, 64],\n",
      "        [67, 64,  1, 62, 74, 74, 70, 64],\n",
      "        [84, 64, 60, 77, 78,  0, 45, 84]])\n",
      "\n",
      "----------------------------------------------\n"
     ]
    }
   ],
   "source": [
    "print(\"----------------------------------------------\\n\")\n",
    "print(f\"Inputs:\\n\\n\\t{xb.shape}\\n\\n{xb}\")\n",
    "print(\"\\n----------------------------------------------\\n\")\n",
    "print(f\"Targets:\\n\\n\\t{yb.shape}\\n\\n{yb}\")\n",
    "print(\"\\n----------------------------------------------\")"
   ]
  },
  {
   "cell_type": "code",
   "execution_count": 17,
   "metadata": {},
   "outputs": [
    {
     "name": "stdout",
     "output_type": "stream",
     "text": [
      "Context: tensor([64]) -> Target: 0\n",
      "Context: tensor([64,  0]) -> Target: 41\n",
      "Context: tensor([64,  0, 41]) -> Target: 78\n",
      "Context: tensor([64,  0, 41, 78]) -> Target: 1\n",
      "Context: tensor([64,  0, 41, 78,  1]) -> Target: 67\n",
      "Context: tensor([64,  0, 41, 78,  1, 67]) -> Target: 64\n",
      "Context: tensor([64,  0, 41, 78,  1, 67, 64]) -> Target: 1\n",
      "Context: tensor([64,  0, 41, 78,  1, 67, 64,  1]) -> Target: 84\n",
      "Context: tensor([73]) -> Target: 62\n",
      "Context: tensor([73, 62]) -> Target: 67\n",
      "Context: tensor([73, 62, 67]) -> Target: 0\n",
      "Context: tensor([73, 62, 67,  0]) -> Target: 89\n",
      "Context: tensor([73, 62, 67,  0, 89]) -> Target: 88\n",
      "Context: tensor([73, 62, 67,  0, 89, 88]) -> Target: 33\n",
      "Context: tensor([73, 62, 67,  0, 89, 88, 33]) -> Target: 79\n",
      "Context: tensor([73, 62, 67,  0, 89, 88, 33, 79]) -> Target: 64\n",
      "Context: tensor([78]) -> Target: 67\n",
      "Context: tensor([78, 67]) -> Target: 64\n",
      "Context: tensor([78, 67, 64]) -> Target: 1\n",
      "Context: tensor([78, 67, 64,  1]) -> Target: 62\n",
      "Context: tensor([78, 67, 64,  1, 62]) -> Target: 74\n",
      "Context: tensor([78, 67, 64,  1, 62, 74]) -> Target: 74\n",
      "Context: tensor([78, 67, 64,  1, 62, 74, 74]) -> Target: 70\n",
      "Context: tensor([78, 67, 64,  1, 62, 74, 74, 70]) -> Target: 64\n",
      "Context: tensor([1]) -> Target: 84\n",
      "Context: tensor([ 1, 84]) -> Target: 64\n",
      "Context: tensor([ 1, 84, 64]) -> Target: 60\n",
      "Context: tensor([ 1, 84, 64, 60]) -> Target: 77\n",
      "Context: tensor([ 1, 84, 64, 60, 77]) -> Target: 78\n",
      "Context: tensor([ 1, 84, 64, 60, 77, 78]) -> Target: 0\n",
      "Context: tensor([ 1, 84, 64, 60, 77, 78,  0]) -> Target: 45\n",
      "Context: tensor([ 1, 84, 64, 60, 77, 78,  0, 45]) -> Target: 84\n"
     ]
    }
   ],
   "source": [
    "for b in range(batch_size):\n",
    "    for t in range(block_size):\n",
    "        context = xb[b, :t+1]\n",
    "        target = yb[b, t]\n",
    "        print(f\"Context: {context} -> Target: {target}\")"
   ]
  },
  {
   "cell_type": "code",
   "execution_count": 18,
   "metadata": {},
   "outputs": [
    {
     "name": "stdout",
     "output_type": "stream",
     "text": [
      "torch.Size([32, 233])\n",
      "tensor(6.1914, grad_fn=<NllLossBackward0>)\n",
      "---\n",
      "\n",
      "{ö?🚩🧢天:n不天€аX学😼ь🤣fл🚬大💪ep😐л?ô👑'Z😎!дA😱тK,e号🤨🤡d*f)😩3🥖三四4>😐€‎‘😭7🤪ö🌳)🤙🤡🤩🌳️XOд律ã☕😐😔🤮二Z🥖0🍀”L)O🚩作r我⁉'5тêÀд大🧐\n"
     ]
    }
   ],
   "source": [
    "class BigramLanguageModel(nn.Module):\n",
    "    \n",
    "    def __init__(self, vocab_size):\n",
    "        super().__init__()\n",
    "        self.token_embedding_table = nn.Embedding(vocab_size, vocab_size)\n",
    "        \n",
    "    def forward(self, ind_x, targets=None):\n",
    "        \n",
    "        logits = self.token_embedding_table(ind_x)\n",
    "        \n",
    "        \n",
    "        if targets is not None:\n",
    "            B, T, C = logits.shape\n",
    "            logits = logits.view(B*T, C)\n",
    "        \n",
    "            targets = targets.view(B*T)\n",
    "        \n",
    "            loss = F.cross_entropy(logits, targets)\n",
    "        else:\n",
    "            loss = None\n",
    "        \n",
    "        return logits, loss\n",
    "    \n",
    "    def generate(self, idx, max_new_tokens):\n",
    "        for _ in range(max_new_tokens):\n",
    "            logits, loss = self(idx)\n",
    "            logits = logits[:, -1, :]\n",
    "            probs = F.softmax(logits, dim=-1)\n",
    "            next_token = torch.multinomial(probs, num_samples=1)\n",
    "            idx = torch.cat((idx, next_token), dim=1)\n",
    "        \n",
    "        return idx\n",
    "    \n",
    "model = BigramLanguageModel(vocab_size)\n",
    "logits, loss = model(xb, yb)\n",
    "print(logits.shape)\n",
    "print(loss)\n",
    "print(\"---\")\n",
    "\n",
    "idx = torch.zeros((1, 1), dtype=torch.long)\n",
    "generated = model.generate(idx, max_new_tokens=100)[0]\n",
    "print(decode(generated.tolist()))"
   ]
  },
  {
   "cell_type": "code",
   "execution_count": 19,
   "metadata": {},
   "outputs": [
    {
     "name": "stderr",
     "output_type": "stream",
     "text": [
      "C:\\Users\\EGE\\AppData\\Local\\Packages\\PythonSoftwareFoundation.Python.3.10_qbz5n2kfra8p0\\LocalCache\\local-packages\\Python310\\site-packages\\tqdm\\auto.py:21: TqdmWarning: IProgress not found. Please update jupyter and ipywidgets. See https://ipywidgets.readthedocs.io/en/stable/user_install.html\n",
      "  from .autonotebook import tqdm as notebook_tqdm\n"
     ]
    }
   ],
   "source": [
    "optimizer = torch.optim.AdamW(model.parameters(), lr=0.001)"
   ]
  },
  {
   "cell_type": "code",
   "execution_count": 26,
   "metadata": {},
   "outputs": [],
   "source": [
    "\"\"\"\n",
    "def train(model, steps, batch_size=32, block_size=8, train_data=train_data, test_data=test_data):\n",
    "    \n",
    "    losses = []\n",
    "    for _ in range(steps):\n",
    "        xb, yb = get_batch(\"train\", batch_size, block_size, train_data, test_data)\n",
    "        logits, loss = model(xb, yb)\n",
    "        optimizer.zero_grad(set_to_none=True)\n",
    "        loss.backward()\n",
    "        optimizer.step()\n",
    "        losses.append(loss.item())\n",
    "    return losses\n",
    "\n",
    "\"\"\"\n",
    "\n",
    "model_1000 = BigramLanguageModel(vocab_size)\n",
    "optimizer = torch.optim.AdamW(model_1000.parameters(), lr=0.001)\n",
    "losses_1000 = []\n",
    "steps = 1000\n",
    "\n",
    "for i in range(steps):\n",
    "    xb, yb = get_batch(\"train\", 32, 8, train_data, test_data)\n",
    "    logits, loss = model_1000(xb, yb)\n",
    "    optimizer.zero_grad(set_to_none=True)\n",
    "    loss.backward()\n",
    "    optimizer.step()\n",
    "    losses_1000.append(loss.item())"
   ]
  },
  {
   "cell_type": "code",
   "execution_count": 27,
   "metadata": {},
   "outputs": [
    {
     "data": {
      "text/plain": [
       "[<matplotlib.lines.Line2D at 0x1f342bc5d80>]"
      ]
     },
     "execution_count": 27,
     "metadata": {},
     "output_type": "execute_result"
    },
    {
     "data": {
      "image/png": "[encoded data removed]",
      "text/plain": [
       "<Figure size 640x480 with 1 Axes>"
      ]
     },
     "metadata": {},
     "output_type": "display_data"
    }
   ],
   "source": [
    "plt.plot(losses_1000)"
   ]
  },
  {
   "cell_type": "code",
   "execution_count": 30,
   "metadata": {},
   "outputs": [
    {
     "name": "stdout",
     "output_type": "stream",
     "text": [
      "-----------------------------------\n",
      "EmilioBot 2.0:  \n",
      "🐱👊5K💯🥺中8X国Jè@🐱Gz☕Ч进💃\n",
      "-----------------------------------\n",
      "EmilioBot 2.0:  \n",
      "‘😫:Eiñ十.'😕🤔y6yã🤡🤞🥺ñ二\n",
      "-----------------------------------\n",
      "EmilioBot 2.0:  \n",
      "三a大{}^三{💪二Bã三ьé’🤮(♂时\n",
      "-----------------------------------\n",
      "EmilioBot 2.0:  \n",
      "’二лA🐱л喜B🌳🤝еа中è🥴U😐SÁ \n",
      "-----------------------------------\n",
      "EmilioBot 2.0:  \n",
      "d中进‼{🧐进S‍v🥹国👎о国老♂一sI\n",
      "-----------------------------------\n"
     ]
    }
   ],
   "source": [
    "for i in range(5):\n",
    "    print(\"-----------------------------------\")\n",
    "    print(\"EmilioBot 2.0: \", decode(model_1000.generate(idx, 20)[0].tolist()))\n",
    "print(\"-----------------------------------\")"
   ]
  },
  {
   "cell_type": "code",
   "execution_count": 31,
   "metadata": {},
   "outputs": [],
   "source": [
    "model_10000 = BigramLanguageModel(vocab_size)\n",
    "optimizer = torch.optim.AdamW(model_10000.parameters(), lr=0.001)\n",
    "losses_10000 = []\n",
    "steps = 10000\n",
    "\n",
    "for i in range(steps):\n",
    "    xb, yb = get_batch(\"train\", 32, 8, train_data, test_data)\n",
    "    logits, loss = model_10000(xb, yb)\n",
    "    optimizer.zero_grad(set_to_none=True)\n",
    "    loss.backward()\n",
    "    optimizer.step()\n",
    "    losses_10000.append(loss.item())"
   ]
  },
  {
   "cell_type": "code",
   "execution_count": 32,
   "metadata": {},
   "outputs": [
    {
     "data": {
      "text/plain": [
       "[<matplotlib.lines.Line2D at 0x1f346c885b0>]"
      ]
     },
     "execution_count": 32,
     "metadata": {},
     "output_type": "execute_result"
    },
    {
     "data": {
      "image/png": "[encoded data removed]",
      "text/plain": [
       "<Figure size 640x480 with 1 Axes>"
      ]
     },
     "metadata": {},
     "output_type": "display_data"
    }
   ],
   "source": [
    "plt.plot(losses_10000)"
   ]
  },
  {
   "cell_type": "code",
   "execution_count": 119,
   "metadata": {},
   "outputs": [
    {
     "name": "stdout",
     "output_type": "stream",
     "text": [
      "-----------------------------------\n",
      "EmilioBot 2.0:  Sthaches j我KK🤢💪的学🤨🍷😎)íGowo rermga akinbad imes NLi\n",
      "-----------------------------------\n",
      "EmilioBot 2.0:  I Thaware e f ing pes GV;😂ô法🤌’vonat’mikive t ke an\n",
      "-----------------------------------\n",
      "EmilioBot 2.0:  Me s Asplyo👎Xo t a llyeng drly,ytitintorowhengap3u\n",
      "-----------------------------------\n",
      "EmilioBot 2.0:  us f t it’sh P中🤓1/33d oue f y mar\n",
      "-----------------------------------\n",
      "EmilioBot 2.0:   this a\n",
      "-----------------------------------\n"
     ]
    }
   ],
   "source": [
    "for i in range(5):\n",
    "    print(\"-----------------------------------\")\n",
    "    generation = decode(model_10000.generate(idx, 50)[0].tolist())\n",
    "    if \"\\n\" in generation:\n",
    "        generation = generation[1:]\n",
    "        if \"\\n\" in generation:\n",
    "            print(\"EmilioBot 2.0: \", generation[1:generation.index(\"\\n\")])\n",
    "        else:\n",
    "            print(\"EmilioBot 2.0: \", generation)\n",
    "    else:\n",
    "        print(\"EmilioBot 2.0: \", generation)\n",
    "print(\"-----------------------------------\")"
   ]
  },
  {
   "cell_type": "code",
   "execution_count": 127,
   "metadata": {},
   "outputs": [
    {
     "name": "stdout",
     "output_type": "stream",
     "text": [
      "-----------------------------------\n",
      "EmilioBot 2.0:  \n",
      "tathe’t tbay n\n",
      "Gobeo\n",
      "-----------------------------------\n",
      "EmilioBot 2.0:  \n",
      "IOV😨*🤙工RSio 2$😔Sofun\n",
      "-----------------------------------\n",
      "EmilioBot 2.0:  \n",
      "JAnt’sisugey BBulefu\n",
      "-----------------------------------\n",
      "EmilioBot 2.0:  \n",
      "Linly owape grtr bli\n",
      "-----------------------------------\n",
      "EmilioBot 2.0:  \n",
      "D\n",
      "Thishet\n",
      "OEn bangin\n",
      "-----------------------------------\n"
     ]
    }
   ],
   "source": [
    "for i in range(5):\n",
    "    print(\"-----------------------------------\")\n",
    "    print(\"EmilioBot 2.0: \", decode(model_10000.generate(idx, 20)[0].tolist()))\n",
    "print(\"-----------------------------------\")"
   ]
  },
  {
   "cell_type": "code",
   "execution_count": 128,
   "metadata": {},
   "outputs": [],
   "source": [
    "model_25000 = BigramLanguageModel(vocab_size)\n",
    "optimizer = torch.optim.AdamW(model_25000.parameters(), lr=0.001)\n",
    "losses_25000 = []\n",
    "steps = 25000\n",
    "\n",
    "for i in range(steps):\n",
    "    xb, yb = get_batch(\"train\", 32, 8, train_data, test_data)\n",
    "    logits, loss = model_25000(xb, yb)\n",
    "    optimizer.zero_grad(set_to_none=True)\n",
    "    loss.backward()\n",
    "    optimizer.step()\n",
    "    losses_25000.append(loss.item())"
   ]
  },
  {
   "cell_type": "code",
   "execution_count": 129,
   "metadata": {},
   "outputs": [
    {
     "data": {
      "text/plain": [
       "[<matplotlib.lines.Line2D at 0x1f346e33910>]"
      ]
     },
     "execution_count": 129,
     "metadata": {},
     "output_type": "execute_result"
    },
    {
     "data": {
      "image/png": "[encoded data removed]",
      "text/plain": [
       "<Figure size 640x480 with 1 Axes>"
      ]
     },
     "metadata": {},
     "output_type": "display_data"
    }
   ],
   "source": [
    "plt.plot(losses_25000)"
   ]
  },
  {
   "cell_type": "code",
   "execution_count": 130,
   "metadata": {},
   "outputs": [
    {
     "name": "stdout",
     "output_type": "stream",
     "text": [
      "-----------------------------------\n",
      "EmilioBot 2.0:  ’dimth ce atbhee upr d I iken’m\n",
      "-----------------------------------\n",
      "EmilioBot 2.0:  INo thedk y acouetiketrorcrthauf alousthe itond RS\n",
      "-----------------------------------\n",
      "EmilioBot 2.0:  G2jeshisaheereve chire mif br️0000000000Z85😐三🤢😭=ç🧉\n",
      "-----------------------------------\n",
      "EmilioBot 2.0:  \n",
      "-----------------------------------\n",
      "EmilioBot 2.0:   ranguy h\n",
      "-----------------------------------\n"
     ]
    }
   ],
   "source": [
    "for i in range(5):\n",
    "    print(\"-----------------------------------\")\n",
    "    generation = decode(model_10000.generate(idx, 50)[0].tolist())\n",
    "    if \"\\n\" in generation:\n",
    "        generation = generation[1:]\n",
    "        if \"\\n\" in generation:\n",
    "            print(\"EmilioBot 2.0: \", generation[1:generation.index(\"\\n\")])\n",
    "        else:\n",
    "            print(\"EmilioBot 2.0: \", generation)\n",
    "    else:\n",
    "        print(\"EmilioBot 2.0: \", generation)\n",
    "print(\"-----------------------------------\")"
   ]
  },
  {
   "cell_type": "code",
   "execution_count": 133,
   "metadata": {},
   "outputs": [
    {
     "name": "stdout",
     "output_type": "stream",
     "text": [
      "-----------------------------------\n",
      "EmilioBot 2.0:  \n",
      "Br wrerore10 nin t h\n",
      "-----------------------------------\n",
      "EmilioBot 2.0:  \n",
      "I lyonthicit\n",
      "Tin JAn\n",
      "-----------------------------------\n",
      "EmilioBot 2.0:  \n",
      "Sl\n",
      "Yelito Thoraverè'\n",
      "-----------------------------------\n",
      "EmilioBot 2.0:  \n",
      "Yeet d\n",
      "Itheinctor*️c\n",
      "-----------------------------------\n",
      "EmilioBot 2.0:  \n",
      "Bu deme y rpllidne\n",
      "W\n",
      "-----------------------------------\n"
     ]
    }
   ],
   "source": [
    "for i in range(5):\n",
    "    print(\"-----------------------------------\")\n",
    "    print(\"EmilioBot 2.0: \", decode(model_10000.generate(idx, 20)[0].tolist()))\n",
    "print(\"-----------------------------------\")"
   ]
  },
  {
   "cell_type": "markdown",
   "metadata": {},
   "source": [
    "---"
   ]
  },
  {
   "cell_type": "markdown",
   "metadata": {},
   "source": [
    "---"
   ]
  },
  {
   "cell_type": "markdown",
   "metadata": {},
   "source": [
    "Code from youtube tutorial"
   ]
  },
  {
   "cell_type": "code",
   "execution_count": 20,
   "metadata": {},
   "outputs": [
    {
     "data": {
      "text/plain": [
       "'2.2.2+cu121'"
      ]
     },
     "execution_count": 20,
     "metadata": {},
     "output_type": "execute_result"
    }
   ],
   "source": [
    "torch.__version__"
   ]
  },
  {
   "cell_type": "code",
   "execution_count": 21,
   "metadata": {},
   "outputs": [
    {
     "data": {
      "text/plain": [
       "True"
      ]
     },
     "execution_count": 21,
     "metadata": {},
     "output_type": "execute_result"
    }
   ],
   "source": [
    "torch.cuda.is_available()"
   ]
  },
  {
   "cell_type": "code",
   "execution_count": 23,
   "metadata": {},
   "outputs": [
    {
     "name": "stdout",
     "output_type": "stream",
     "text": [
      "0.231401 M parameters\n",
      "step 0: train loss 5.7008, val loss 5.7023\n",
      "step 100: train loss 2.7763, val loss 2.7804\n",
      "step 200: train loss 2.5845, val loss 2.6091\n",
      "step 300: train loss 2.5062, val loss 2.5394\n",
      "step 400: train loss 2.4255, val loss 2.4727\n",
      "step 500: train loss 2.3843, val loss 2.4117\n",
      "step 600: train loss 2.3130, val loss 2.3504\n",
      "step 700: train loss 2.2465, val loss 2.2826\n",
      "step 800: train loss 2.1947, val loss 2.2511\n",
      "step 900: train loss 2.1460, val loss 2.2031\n",
      "step 1000: train loss 2.0848, val loss 2.1304\n",
      "step 1100: train loss 2.0471, val loss 2.0952\n",
      "step 1200: train loss 2.0296, val loss 2.0818\n",
      "step 1300: train loss 1.9861, val loss 2.0426\n",
      "step 1400: train loss 1.9640, val loss 2.0171\n",
      "step 1500: train loss 1.9402, val loss 1.9876\n",
      "step 1600: train loss 1.8996, val loss 1.9717\n",
      "step 1700: train loss 1.8973, val loss 1.9668\n",
      "step 1800: train loss 1.8700, val loss 1.9420\n",
      "step 1900: train loss 1.8613, val loss 1.9288\n",
      "step 2000: train loss 1.8212, val loss 1.9109\n",
      "step 2100: train loss 1.8220, val loss 1.9032\n",
      "step 2200: train loss 1.8230, val loss 1.8993\n",
      "step 2300: train loss 1.7958, val loss 1.8750\n",
      "step 2400: train loss 1.7801, val loss 1.8764\n",
      "step 2500: train loss 1.7754, val loss 1.8497\n",
      "step 2600: train loss 1.7607, val loss 1.8383\n",
      "step 2700: train loss 1.7507, val loss 1.8469\n",
      "step 2800: train loss 1.7408, val loss 1.8332\n",
      "step 2900: train loss 1.7389, val loss 1.8184\n",
      "step 3000: train loss 1.7286, val loss 1.8237\n",
      "step 3100: train loss 1.7205, val loss 1.8155\n",
      "step 3200: train loss 1.7101, val loss 1.8083\n",
      "step 3300: train loss 1.7083, val loss 1.7929\n",
      "step 3400: train loss 1.6937, val loss 1.7898\n",
      "step 3500: train loss 1.6852, val loss 1.7874\n",
      "step 3600: train loss 1.6716, val loss 1.7878\n",
      "step 3700: train loss 1.6857, val loss 1.7944\n",
      "step 3800: train loss 1.6762, val loss 1.7917\n",
      "step 3900: train loss 1.6658, val loss 1.7608\n",
      "step 4000: train loss 1.6572, val loss 1.7637\n",
      "step 4100: train loss 1.6655, val loss 1.7677\n",
      "step 4200: train loss 1.6397, val loss 1.7645\n",
      "step 4300: train loss 1.6455, val loss 1.7586\n",
      "step 4400: train loss 1.6524, val loss 1.7571\n",
      "step 4500: train loss 1.6363, val loss 1.7448\n",
      "step 4600: train loss 1.6352, val loss 1.7437\n",
      "step 4700: train loss 1.6149, val loss 1.7400\n",
      "step 4800: train loss 1.6132, val loss 1.7373\n",
      "step 4900: train loss 1.6214, val loss 1.7319\n",
      "step 4999: train loss 1.6118, val loss 1.7262\n",
      "\n",
      "Yeah\n",
      "Like\n",
      "There sleh musiviona\n",
      "He gonnar did thangeres aure to GANDHECD\n",
      "ENuica Wasn’t don’t Demir\n",
      "Lojeb to linclite\n",
      "The east some picall natia his ticks\n",
      "But I me scartion I’ll composs of the party a moricans and name 🤌 Turkisa?\n",
      "Rairtical assially “many pabld about Almicialls\n",
      "That dell\n",
      "What dy it like that?\n",
      "what I was shim and how\n",
      "Fastern\n",
      "Nice\n",
      "Yo you wantes this up\n",
      "Shapper school\n",
      "I’ll just and that my the Lnk ;0/\n",
      "Also I rave decism\n",
      "You know it JAJACarán Mesican in a friend tod ascompos\n",
      "Lo venno do my kilta\n",
      "You know\n",
      "Day read\n",
      "?\n",
      "Shit you’ll gennic propics\n",
      "And when them\n",
      "I was the samilf\n",
      "How tbh\n",
      "Shit daalles and my it Spanish me in France\n",
      "it’s a mash of pays to IV sam\n",
      "Cound to war do you feel gaysn’t state out\n",
      "dk?\n",
      "Like kad\n",
      "And I like with I feel cot\n",
      "I’d you know\n",
      "Yeah\n",
      "I aalvian of the bad a SRick”\n",
      "JAJAJA\n",
      "Faq\n",
      "Taggay do it’s veryting\n",
      "Di´c the baik\n",
      "To in to tell this rack ques is pick my a brad there nahing in not on duck on broks\n",
      "Ruch Que swe fend\n",
      "In work it bus a rnades gen find sped of bitter to damn ups\n",
      "Like\n",
      "My you obrout I have w think rill or the Good hate ntweson find like 15sls and of the US\n",
      "Ausianst fecancationally has lguest\n",
      "In import\n",
      "☠0% to pla4 you used of time you a pacty assame\n",
      "So a lot lmao\n",
      "He’s girl\n",
      "It’s as work tbh\n",
      "I have man\n",
      "I nead over girl?\n",
      "Bh\n",
      "I really what\n",
      "For duting famn\n",
      "I Paris out happrents it’s to reat\n",
      "Yk so the Nas*\n",
      "It’s this week\n",
      "This Well morty do you know In the do to hot see a lot of something town Turkish about havdn’t basically I did it as to whit\n",
      "Gomp\n",
      "Nah\n",
      "Don you know sworne\n",
      "Idk you get to sucf\n",
      "This toat\n",
      "?\n",
      "Idk\n",
      ".\n",
      "Listalk\n",
      "Hmmm bro\n",
      "How would\n",
      "We sn\n",
      "Was a feel capition for me some dane anne\n",
      "Imma friend out of love\n",
      "🧐\n",
      "Micks forgaiit work\n",
      "I might into the mown\n",
      "Like my nen I stay frfam and in my feel bull dele free fight be tops?\n",
      "My I Unever just do internsfvid ancary stosting posts morth daar\n",
      "books rew?\n",
      "Damn DA’s taking\n",
      "?\n",
      "I hats a parting entadion escationalus\n",
      "Yeah she flind id on jo\n",
      "I feel d sams\n",
      "I like a lot me tonce thisted to sood timl bc than fre\n"
     ]
    }
   ],
   "source": [
    "import torch\n",
    "import torch.nn as nn\n",
    "from torch.nn import functional as F\n",
    "\n",
    "# hyperparameters\n",
    "batch_size = 16 # how many independent sequences will we process in parallel?\n",
    "block_size = 32 # what is the maximum context length for predictions?\n",
    "max_iters = 5000\n",
    "eval_interval = 100\n",
    "learning_rate = 1e-3\n",
    "device = 'cuda' if torch.cuda.is_available() else 'cpu'\n",
    "eval_iters = 200\n",
    "n_embd = 64\n",
    "n_head = 4\n",
    "n_layer = 4\n",
    "dropout = 0.0\n",
    "# ------------\n",
    "\n",
    "torch.manual_seed(1337)\n",
    "\n",
    "# wget https://raw.githubusercontent.com/karpathy/char-rnn/master/data/tinyshakespeare/input.txt\n",
    "with open(DATA_TXT, 'r', encoding='utf-8') as f:\n",
    "    text = f.read()\n",
    "\n",
    "# here are all the unique characters that occur in this text\n",
    "chars = sorted(list(set(text)))\n",
    "vocab_size = len(chars)\n",
    "# create a mapping from characters to integers\n",
    "stoi = { ch:i for i,ch in enumerate(chars) }\n",
    "itos = { i:ch for i,ch in enumerate(chars) }\n",
    "encode = lambda s: [stoi[c] for c in s] # encoder: take a string, output a list of integers\n",
    "decode = lambda l: ''.join([itos[i] for i in l]) # decoder: take a list of integers, output a string\n",
    "\n",
    "# Train and test splits\n",
    "data = torch.tensor(encode(text), dtype=torch.long)\n",
    "n = int(0.9*len(data)) # first 90% will be train, rest val\n",
    "train_data = data[:n]\n",
    "val_data = data[n:]\n",
    "\n",
    "# data loading\n",
    "def get_batch(split):\n",
    "    # generate a small batch of data of inputs x and targets y\n",
    "    data = train_data if split == 'train' else val_data\n",
    "    ix = torch.randint(len(data) - block_size, (batch_size,))\n",
    "    x = torch.stack([data[i:i+block_size] for i in ix])\n",
    "    y = torch.stack([data[i+1:i+block_size+1] for i in ix])\n",
    "    x, y = x.to(device), y.to(device)\n",
    "    return x, y\n",
    "\n",
    "@torch.no_grad()\n",
    "def estimate_loss():\n",
    "    out = {}\n",
    "    model.eval()\n",
    "    for split in ['train', 'val']:\n",
    "        losses = torch.zeros(eval_iters)\n",
    "        for k in range(eval_iters):\n",
    "            X, Y = get_batch(split)\n",
    "            logits, loss = model(X, Y)\n",
    "            losses[k] = loss.item()\n",
    "        out[split] = losses.mean()\n",
    "    model.train()\n",
    "    return out\n",
    "\n",
    "class Head(nn.Module):\n",
    "    \"\"\" one head of self-attention \"\"\"\n",
    "\n",
    "    def __init__(self, head_size):\n",
    "        super().__init__()\n",
    "        self.key = nn.Linear(n_embd, head_size, bias=False)\n",
    "        self.query = nn.Linear(n_embd, head_size, bias=False)\n",
    "        self.value = nn.Linear(n_embd, head_size, bias=False)\n",
    "        self.register_buffer('tril', torch.tril(torch.ones(block_size, block_size)))\n",
    "\n",
    "        self.dropout = nn.Dropout(dropout)\n",
    "\n",
    "    def forward(self, x):\n",
    "        B,T,C = x.shape\n",
    "        k = self.key(x)   # (B,T,C)\n",
    "        q = self.query(x) # (B,T,C)\n",
    "        # compute attention scores (\"affinities\")\n",
    "        wei = q @ k.transpose(-2,-1) * C**-0.5 # (B, T, C) @ (B, C, T) -> (B, T, T)\n",
    "        wei = wei.masked_fill(self.tril[:T, :T] == 0, float('-inf')) # (B, T, T)\n",
    "        wei = F.softmax(wei, dim=-1) # (B, T, T)\n",
    "        wei = self.dropout(wei)\n",
    "        # perform the weighted aggregation of the values\n",
    "        v = self.value(x) # (B,T,C)\n",
    "        out = wei @ v # (B, T, T) @ (B, T, C) -> (B, T, C)\n",
    "        return out\n",
    "\n",
    "class MultiHeadAttention(nn.Module):\n",
    "    \"\"\" multiple heads of self-attention in parallel \"\"\"\n",
    "\n",
    "    def __init__(self, num_heads, head_size):\n",
    "        super().__init__()\n",
    "        self.heads = nn.ModuleList([Head(head_size) for _ in range(num_heads)])\n",
    "        self.proj = nn.Linear(n_embd, n_embd)\n",
    "        self.dropout = nn.Dropout(dropout)\n",
    "\n",
    "    def forward(self, x):\n",
    "        out = torch.cat([h(x) for h in self.heads], dim=-1)\n",
    "        out = self.dropout(self.proj(out))\n",
    "        return out\n",
    "\n",
    "class FeedFoward(nn.Module):\n",
    "    \"\"\" a simple linear layer followed by a non-linearity \"\"\"\n",
    "\n",
    "    def __init__(self, n_embd):\n",
    "        super().__init__()\n",
    "        self.net = nn.Sequential(\n",
    "            nn.Linear(n_embd, 4 * n_embd),\n",
    "            nn.ReLU(),\n",
    "            nn.Linear(4 * n_embd, n_embd),\n",
    "            nn.Dropout(dropout),\n",
    "        )\n",
    "\n",
    "    def forward(self, x):\n",
    "        return self.net(x)\n",
    "\n",
    "class Block(nn.Module):\n",
    "    \"\"\" Transformer block: communication followed by computation \"\"\"\n",
    "\n",
    "    def __init__(self, n_embd, n_head):\n",
    "        # n_embd: embedding dimension, n_head: the number of heads we'd like\n",
    "        super().__init__()\n",
    "        head_size = n_embd // n_head\n",
    "        self.sa = MultiHeadAttention(n_head, head_size)\n",
    "        self.ffwd = FeedFoward(n_embd)\n",
    "        self.ln1 = nn.LayerNorm(n_embd)\n",
    "        self.ln2 = nn.LayerNorm(n_embd)\n",
    "\n",
    "    def forward(self, x):\n",
    "        x = x + self.sa(self.ln1(x))\n",
    "        x = x + self.ffwd(self.ln2(x))\n",
    "        return x\n",
    "\n",
    "# super simple bigram model\n",
    "class BigramLanguageModel(nn.Module):\n",
    "\n",
    "    def __init__(self):\n",
    "        super().__init__()\n",
    "        # each token directly reads off the logits for the next token from a lookup table\n",
    "        self.token_embedding_table = nn.Embedding(vocab_size, n_embd)\n",
    "        self.position_embedding_table = nn.Embedding(block_size, n_embd)\n",
    "        self.blocks = nn.Sequential(*[Block(n_embd, n_head=n_head) for _ in range(n_layer)])\n",
    "        self.ln_f = nn.LayerNorm(n_embd) # final layer norm\n",
    "        self.lm_head = nn.Linear(n_embd, vocab_size)\n",
    "\n",
    "    def forward(self, idx, targets=None):\n",
    "        B, T = idx.shape\n",
    "\n",
    "        # idx and targets are both (B,T) tensor of integers\n",
    "        tok_emb = self.token_embedding_table(idx) # (B,T,C)\n",
    "        pos_emb = self.position_embedding_table(torch.arange(T, device=device)) # (T,C)\n",
    "        x = tok_emb + pos_emb # (B,T,C)\n",
    "        x = self.blocks(x) # (B,T,C)\n",
    "        x = self.ln_f(x) # (B,T,C)\n",
    "        logits = self.lm_head(x) # (B,T,vocab_size)\n",
    "\n",
    "        if targets is None:\n",
    "            loss = None\n",
    "        else:\n",
    "            B, T, C = logits.shape\n",
    "            logits = logits.view(B*T, C)\n",
    "            targets = targets.view(B*T)\n",
    "            loss = F.cross_entropy(logits, targets)\n",
    "\n",
    "        return logits, loss\n",
    "\n",
    "    def generate(self, idx, max_new_tokens):\n",
    "        # idx is (B, T) array of indices in the current context\n",
    "        for _ in range(max_new_tokens):\n",
    "            # crop idx to the last block_size tokens\n",
    "            idx_cond = idx[:, -block_size:]\n",
    "            # get the predictions\n",
    "            logits, loss = self(idx_cond)\n",
    "            # focus only on the last time step\n",
    "            logits = logits[:, -1, :] # becomes (B, C)\n",
    "            # apply softmax to get probabilities\n",
    "            probs = F.softmax(logits, dim=-1) # (B, C)\n",
    "            # sample from the distribution\n",
    "            idx_next = torch.multinomial(probs, num_samples=1) # (B, 1)\n",
    "            # append sampled index to the running sequence\n",
    "            idx = torch.cat((idx, idx_next), dim=1) # (B, T+1)\n",
    "        return idx\n",
    "\n",
    "model = BigramLanguageModel()\n",
    "m = model.to(device)\n",
    "# print the number of parameters in the model\n",
    "print(sum(p.numel() for p in m.parameters())/1e6, 'M parameters')\n",
    "\n",
    "# create a PyTorch optimizer\n",
    "optimizer = torch.optim.AdamW(model.parameters(), lr=learning_rate)\n",
    "\n",
    "for iter in range(max_iters):\n",
    "\n",
    "    # every once in a while evaluate the loss on train and val sets\n",
    "    if iter % eval_interval == 0 or iter == max_iters - 1:\n",
    "        losses = estimate_loss()\n",
    "        print(f\"step {iter}: train loss {losses['train']:.4f}, val loss {losses['val']:.4f}\")\n",
    "\n",
    "    # sample a batch of data\n",
    "    xb, yb = get_batch('train')\n",
    "\n",
    "    # evaluate the loss\n",
    "    logits, loss = model(xb, yb)\n",
    "    optimizer.zero_grad(set_to_none=True)\n",
    "    loss.backward()\n",
    "    optimizer.step()\n",
    "\n",
    "# generate from the model\n",
    "context = torch.zeros((1, 1), dtype=torch.long, device=device)\n",
    "print(decode(m.generate(context, max_new_tokens=2000)[0].tolist()))\n"
   ]
  },
  {
   "cell_type": "code",
   "execution_count": 65,
   "metadata": {},
   "outputs": [],
   "source": [
    "torch.save(m.state_dict(), \"EmilioBot_Tensor\")"
   ]
  },
  {
   "cell_type": "code",
   "execution_count": 43,
   "metadata": {},
   "outputs": [
    {
     "name": "stdout",
     "output_type": "stream",
     "text": [
      "\n",
      "?\n",
      "Citiona\n",
      "But A2Eba ivalivions\n",
      "What do watching tos tan virl in your fight that shitty something of Imostil Appeairacaliz ost picsopine some lifest hing\n",
      "I think\n",
      "No I fach I’m cart an the UAM\n",
      "It’s advern for\n",
      "It may dannne damn\n",
      "Lato and “gonna”\n",
      "And I mean in Hernna\n",
      "Can thoy I’m guy\n",
      "And the alwers can we live typort go decising women Axch\n",
      "This shit?\n",
      "I mivid to parts?\n",
      "Did you?\n",
      "So this nicdick bidess\n",
      "You know find it obd I macroughts ly lajances\n",
      "This is momica?\n",
      "It may idk my hushive an fun Idk\n",
      "JAJAJAJAJA\n",
      "A what do Sday Turkish\n",
      "Like\n",
      "I hate like anjoy one rand frond by black I goatanrally and think of thind to dranding, Grect you hid a chille\n",
      "And it’s think\n",
      "On a vash\n",
      "Good politude bc making luck id actick AMLb dad 2:00\n",
      "My yourstedn’t sy hotty of it maigid it law me bring?\n",
      "Why, Eura\n",
      "To you ever liking mutary white whitith she or teamired aff\n",
      "I don’t catgo\n",
      "But it\n",
      "May this that?\n",
      "I told no other like\n",
      "Imma ticken telens w find?\n",
      "Bro In impeam agargies\n",
      "de I can luct and after\n",
      "Idk\n",
      "You know\n",
      "Colommaca\n",
      "\n"
     ]
    }
   ],
   "source": [
    "print(decode(m.generate(context, 1000)[0].tolist()))"
   ]
  },
  {
   "cell_type": "code",
   "execution_count": 46,
   "metadata": {},
   "outputs": [
    {
     "name": "stdout",
     "output_type": "stream",
     "text": [
      "-----------------------------------\n",
      "EmilioBot 2.0:  ike no putes\n",
      "-----------------------------------\n",
      "EmilioBot 2.0:   used rectiate 💀\n",
      "-----------------------------------\n",
      "EmilioBot 2.0:  rench I was seand to having rn tho\n",
      "-----------------------------------\n",
      "EmilioBot 2.0:   miss\n",
      "-----------------------------------\n",
      "EmilioBot 2.0:   was the an unner sight way 10 LYear orcen next he inclect to my girls\n",
      "-----------------------------------\n"
     ]
    }
   ],
   "source": [
    "\n",
    "context = torch.zeros((1, 1), dtype=torch.long, device=device)\n",
    "for i in range(5):\n",
    "    print(\"-----------------------------------\")\n",
    "    generation = decode(m.generate(context, 100)[0].tolist())\n",
    "    if \"\\n\" in generation:\n",
    "        generation = generation[1:]\n",
    "        if \"\\n\" in generation:\n",
    "            print(\"EmilioBot 2.0: \", generation[1:generation.index(\"\\n\")])\n",
    "        else:\n",
    "            print(\"EmilioBot 2.0: \", generation)\n",
    "    else:\n",
    "        print(\"EmilioBot 2.0: \", generation)\n",
    "print(\"-----------------------------------\")"
   ]
  },
  {
   "cell_type": "code",
   "execution_count": 45,
   "metadata": {},
   "outputs": [
    {
     "name": "stdout",
     "output_type": "stream",
     "text": [
      "------------------------------------------------------------\n",
      "EmilioBot 2.0:  \n",
      "Idk\n",
      "JAJAJAJA\n",
      "Wik\n",
      "?\n",
      "My centro mouth it\n",
      "bro thank you gonna it\n",
      "And hopen\n",
      "I want to I mean it jost cont\n",
      "------------------------------------------------------------\n",
      "EmilioBot 2.0:  \n",
      "O you purn Paris that hid is to do cam out of Jattizán take ffight\n",
      "I sumuch that do to go and of the\n",
      "------------------------------------------------------------\n",
      "EmilioBot 2.0:  \n",
      "?\n",
      "Yo\n",
      "?\n",
      "?\n",
      "Awercents people of teat\n",
      "I actovels\n",
      "I sstaves about Can\n",
      "I kis Grecks\n",
      "She is alragest and ho\n",
      "------------------------------------------------------------\n"
     ]
    }
   ],
   "source": [
    "for i in range(3):\n",
    "    print(\"------------------------------------------------------------\")\n",
    "    print(\"EmilioBot 2.0: \", decode(m.generate(context, 100)[0].tolist()))\n",
    "print(\"------------------------------------------------------------\")"
   ]
  },
  {
   "cell_type": "code",
   "execution_count": 47,
   "metadata": {},
   "outputs": [
    {
     "data": {
      "text/plain": [
       "tensor([[0]], device='cuda:0')"
      ]
     },
     "execution_count": 47,
     "metadata": {},
     "output_type": "execute_result"
    }
   ],
   "source": [
    "context"
   ]
  },
  {
   "cell_type": "code",
   "execution_count": 58,
   "metadata": {},
   "outputs": [
    {
     "data": {
      "text/plain": [
       "tensor([[57, 74,  1, 72, 60, 73,  1, 82, 67, 60, 79,  8, 78,  1, 80, 75]],\n",
       "       device='cuda:0')"
      ]
     },
     "execution_count": 58,
     "metadata": {},
     "output_type": "execute_result"
    }
   ],
   "source": [
    "input_context = torch.tensor([encode(\"Yo man what's up\")], dtype=torch.long, device=device)\n",
    "input_context"
   ]
  },
  {
   "cell_type": "code",
   "execution_count": 66,
   "metadata": {},
   "outputs": [
    {
     "data": {
      "text/plain": [
       "16"
      ]
     },
     "execution_count": 66,
     "metadata": {},
     "output_type": "execute_result"
    }
   ],
   "source": []
  },
  {
   "cell_type": "code",
   "execution_count": 60,
   "metadata": {},
   "outputs": [
    {
     "data": {
      "text/plain": [
       "\"Yo man what's up the love prespeading\\nNah\\nYo some quiest\\nC\\nJAJAJA\\nBo i think to mavidend\\nI be hons that bigger\\nI hav\""
      ]
     },
     "execution_count": 60,
     "metadata": {},
     "output_type": "execute_result"
    }
   ],
   "source": [
    "decode(m.generate(input_context, 100)[0].tolist())"
   ]
  },
  {
   "cell_type": "code",
   "execution_count": 71,
   "metadata": {},
   "outputs": [
    {
     "data": {
      "text/plain": [
       "'\\nI mean the Auplemb and onces\\nI can way kout that the poplent in’t get like to stredé a do to I’m be'"
      ]
     },
     "execution_count": 71,
     "metadata": {},
     "output_type": "execute_result"
    }
   ],
   "source": [
    "decode(m.generate(input_context, 100)[0].tolist())[len(\"Yo man what's up\"):]"
   ]
  },
  {
   "cell_type": "code",
   "execution_count": 95,
   "metadata": {},
   "outputs": [
    {
     "name": "stdout",
     "output_type": "stream",
     "text": [
      "Poyraz: Yo whats up\n",
      "EmilioBot 2.0:   anymes rn\n",
      "Nah bc of\n"
     ]
    }
   ],
   "source": [
    "message = input(\"Poyraz: \")\n",
    "print(\"Poyraz: \" + message)\n",
    "input_context = torch.tensor([encode(message)], dtype=torch.long, device=device)\n",
    "response = decode(m.generate(input_context, 20)[0].tolist())\n",
    "print(\"EmilioBot 2.0: \", response[len(message):])"
   ]
  },
  {
   "cell_type": "code",
   "execution_count": 102,
   "metadata": {},
   "outputs": [
    {
     "name": "stdout",
     "output_type": "stream",
     "text": [
      "\n",
      "\n",
      "-----------------------------------------------------\n",
      "\n",
      "\n",
      "Poyraz: It's\n",
      "\n",
      "EmilioBot 2.0:   acrigies basier  Like I scoon \n",
      "\n",
      "\n",
      "\n",
      "-----------------------------------------------------\n",
      "\n",
      "\n"
     ]
    }
   ],
   "source": [
    "def parse_response(text, cutoff=50):\n",
    "    res = text.replace(\"\\n\", \"  \")\n",
    "    return res[:cutoff + res[cutoff:].index(\" \")]\n",
    "\n",
    "model = BigramLanguageModel()\n",
    "model.to(device)\n",
    "model.load_state_dict(torch.load(\"EmilioBot_Tensor\"))\n",
    "\n",
    "\n",
    "print(\"\\n\\n-----------------------------------------------------\\n\\n\")\n",
    "cutoff = random.randint(0, 40)\n",
    "message = \"It's\"\n",
    "print(\"Poyraz: \" + message + \"\\n\")\n",
    "input_context = torch.tensor([encode(message)], dtype=torch.long, device=device)\n",
    "response = parse_response(decode(model.generate(input_context, cutoff+50)[0].tolist())[len(message):], cutoff)\n",
    "print(\"EmilioBot 2.0: \", response, \"\\n\")\n",
    "print(\"\\n\\n-----------------------------------------------------\\n\\n\")"
   ]
  },
  {
   "cell_type": "code",
   "execution_count": null,
   "metadata": {},
   "outputs": [],
   "source": []
  }
 ],
 "metadata": {
  "kernelspec": {
   "display_name": "Python 3",
   "language": "python",
   "name": "python3"
  },
  "language_info": {
   "codemirror_mode": {
    "name": "ipython",
    "version": 3
   },
   "file_extension": ".py",
   "mimetype": "text/x-python",
   "name": "python",
   "nbconvert_exporter": "python",
   "pygments_lexer": "ipython3",
   "version": "3.10.11"
  }
 },
 "nbformat": 4,
 "nbformat_minor": 2
}
